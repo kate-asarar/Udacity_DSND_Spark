{
 "cells": [
  {
   "cell_type": "markdown",
   "metadata": {},
   "source": [
    "# Sparkify Project Workspace\n",
    "\n",
    "In this notebook we will use Spark MLlib to build machine learning models in order to predict customer churn based on the streaming data from a digital music service company called `Sparkify`.\n",
    "\n",
    "Predicting churn rates is a challenging and common problem that data scientists regularly encounter in any customer-facing business. "
   ]
  },
  {
   "cell_type": "markdown",
   "metadata": {},
   "source": [
    "## Import Libraries and set-up Spark Environment"
   ]
  },
  {
   "cell_type": "code",
   "execution_count": 105,
   "metadata": {},
   "outputs": [],
   "source": [
    "# import libraries\n",
    "import numpy as np\n",
    "import pandas as pd\n",
    "%matplotlib inline\n",
    "import matplotlib.pyplot as plt\n",
    "import datetime\n",
    "\n",
    "from sklearn.metrics import f1_score, recall_score, precision_score\n",
    "from pyspark.sql import SparkSession\n",
    "import pyspark.sql.functions as F\n",
    "from pyspark.sql.types import IntegerType, DoubleType, DateType, FloatType\n",
    "from pyspark.ml.feature import VectorAssembler, MinMaxScaler\n",
    "from pyspark.ml import Pipeline\n",
    "from pyspark.ml.evaluation import BinaryClassificationEvaluator\n",
    "from pyspark.ml.tuning import ParamGridBuilder, CrossValidator\n",
    "from pyspark.ml.classification import LogisticRegression, DecisionTreeClassifier, GBTClassifier, LinearSVC, NaiveBayes \n",
    "\n",
    "\n",
    "import ibmos2spark\n",
    "# @hidden_cell\n",
    "credentials = {\n",
    "    'endpoint': 'https://s3-api.us-geo.objectstorage.service.networklayer.com',\n",
    "    'service_id': 'iam-ServiceId-a5a39dca-8aeb-4d83-9d3e-00ceb852718d',\n",
    "    'iam_service_endpoint': 'https://iam.ng.bluemix.net/oidc/token',\n",
    "    'api_key': 'rqBa3rpfc-E37u6aUPOJMQGHZTb-pRkRphmByZnZvCl9'\n",
    "}\n",
    "\n",
    "configuration_name = 'os_ecaac864fdce4bde8e986d2322f20e8d_configs'\n",
    "cos = ibmos2spark.CloudObjectStorage(sc, credentials, configuration_name, 'bluemix_cos')\n",
    "spark = SparkSession.builder.getOrCreate()\n",
    "#\n",
    "sqlContext.setConf(\"spark.sql.shuffle.partitions\", \"1\")\n",
    "# Since JSON data can be semi-structured and contain additional metadata, it is possible that you might face issues with the DataFrame layout.\n",
    "# Please read the documentation of 'SparkSession.read()' to learn more about the possibilities to adjust the data loading.\n",
    "# PySpark documentation: http://spark.apache.org/docs/2.0.2/api/python/pyspark.sql.html#pyspark.sql.DataFrameReader.json"
   ]
  },
  {
   "cell_type": "markdown",
   "metadata": {},
   "source": [
    "# Load and Clean Dataset\n",
    "We load and clean the dataset `medium-sparkify-event-data.json`, checking for invalid or missing data - for example, records without userids or sessionids. "
   ]
  },
  {
   "cell_type": "code",
   "execution_count": 2,
   "metadata": {},
   "outputs": [],
   "source": [
    "# Read in dataset\n",
    "df = spark.read.json(cos.url('medium-sparkify-event-data.json', 'sparkify-donotdelete-pr-xgdefouczva32r'))"
   ]
  },
  {
   "cell_type": "code",
   "execution_count": 3,
   "metadata": {},
   "outputs": [
    {
     "data": {
      "text/plain": [
       "543705"
      ]
     },
     "execution_count": 3,
     "metadata": {},
     "output_type": "execute_result"
    }
   ],
   "source": [
    "# Print the shape of the dataset\n",
    "print('Rows: {}, Columns: {}'.format(df.count(), len(df.columns)))"
   ]
  },
  {
   "cell_type": "code",
   "execution_count": 4,
   "metadata": {},
   "outputs": [
    {
     "name": "stdout",
     "output_type": "stream",
     "text": [
      "Column artist: 0 empty entries\n",
      "Column auth: 0 empty entries\n",
      "Column firstName: 0 empty entries\n",
      "Column gender: 0 empty entries\n",
      "Column itemInSession: 0 empty entries\n",
      "Column lastName: 0 empty entries\n",
      "Column length: 0 empty entries\n",
      "Column level: 0 empty entries\n",
      "Column location: 0 empty entries\n",
      "Column method: 0 empty entries\n",
      "Column page: 0 empty entries\n",
      "Column registration: 0 empty entries\n",
      "Column sessionId: 0 empty entries\n",
      "Column song: 0 empty entries\n",
      "Column status: 0 empty entries\n",
      "Column ts: 0 empty entries\n",
      "Column userAgent: 0 empty entries\n",
      "Column userId: 15700 empty entries\n"
     ]
    }
   ],
   "source": [
    "# Check columns for empty values\n",
    "for c in df.columns:\n",
    "    print('Column {}: {} empty values'.format(c, df.filter(F.col(c)=='').count())) "
   ]
  },
  {
   "cell_type": "code",
   "execution_count": 5,
   "metadata": {},
   "outputs": [
    {
     "name": "stdout",
     "output_type": "stream",
     "text": [
      "+------+----+---------+------+-------------+--------+------+-----+--------+------+----+------------+---------+------+------+---+---------+------+\n",
      "|artist|auth|firstName|gender|itemInSession|lastName|length|level|location|method|page|registration|sessionId|  song|status| ts|userAgent|userId|\n",
      "+------+----+---------+------+-------------+--------+------+-----+--------+------+----+------------+---------+------+------+---+---------+------+\n",
      "|110828|   0|    15700| 15700|            0|   15700|110828|    0|   15700|     0|   0|       15700|        0|110828|     0|  0|    15700|     0|\n",
      "+------+----+---------+------+-------------+--------+------+-----+--------+------+----+------------+---------+------+------+---+---------+------+\n",
      "\n"
     ]
    }
   ],
   "source": [
    "# Check for null values\n",
    "df.select([F.count(F.when(F.col(c).isNull(), c)).alias(c) for c in df.columns]).show()"
   ]
  },
  {
   "cell_type": "code",
   "execution_count": 6,
   "metadata": {},
   "outputs": [],
   "source": [
    "# Remove records without userids or sessionids\n",
    "df = df.dropna(how = 'any', subset = ['userId', 'sessionId'])\n",
    "df = df.filter((df['userId'] != ''))"
   ]
  },
  {
   "cell_type": "markdown",
   "metadata": {},
   "source": [
    "# Exploratory Data Analysis\n",
    "Next, we will perform EDA by doing basic manipulations within PySpark.\n",
    "\n",
    "### Define Churn\n",
    "\n",
    "Then, we will create a column `label` to use as the label for the machine learning model. The label is defined by the `Cancellation Confirmation` events to identify user churn, which happen for both paid and free users.\n",
    "\n",
    "### Explore Data\n",
    "Once we've defined churn, we will further perform some exploratory data analysis to observe the behavior for users who stayed vs users who churned. We start by exploring aggregates on these two groups of users."
   ]
  },
  {
   "cell_type": "code",
   "execution_count": 7,
   "metadata": {},
   "outputs": [
    {
     "data": {
      "text/plain": [
       "[Row(artist='Martin Orford', auth='Logged In', firstName='Joseph', gender='M', itemInSession=20, lastName='Morales', length=597.55057, level='free', location='Corpus Christi, TX', method='PUT', page='NextSong', registration=1532063507000, sessionId=292, song='Grand Designs', status=200, ts=1538352011000, userAgent='\"Mozilla/5.0 (Macintosh; Intel Mac OS X 10_9_4) AppleWebKit/537.36 (KHTML, like Gecko) Chrome/36.0.1985.125 Safari/537.36\"', userId='293'),\n",
       " Row(artist=\"John Brown's Body\", auth='Logged In', firstName='Sawyer', gender='M', itemInSession=74, lastName='Larson', length=380.21179, level='free', location='Houston-The Woodlands-Sugar Land, TX', method='PUT', page='NextSong', registration=1538069638000, sessionId=97, song='Bulls', status=200, ts=1538352025000, userAgent='\"Mozilla/5.0 (Macintosh; Intel Mac OS X 10_9_4) AppleWebKit/537.36 (KHTML, like Gecko) Chrome/36.0.1985.143 Safari/537.36\"', userId='98'),\n",
       " Row(artist='Afroman', auth='Logged In', firstName='Maverick', gender='M', itemInSession=184, lastName='Santiago', length=202.37016, level='paid', location='Orlando-Kissimmee-Sanford, FL', method='PUT', page='NextSong', registration=1535953455000, sessionId=178, song='Because I Got High', status=200, ts=1538352118000, userAgent='\"Mozilla/5.0 (Macintosh; Intel Mac OS X 10_9_4) AppleWebKit/537.36 (KHTML, like Gecko) Chrome/36.0.1985.143 Safari/537.36\"', userId='179')]"
      ]
     },
     "execution_count": 7,
     "metadata": {},
     "output_type": "execute_result"
    }
   ],
   "source": [
    "# Show first data points\n",
    "df.take(3)"
   ]
  },
  {
   "cell_type": "code",
   "execution_count": 8,
   "metadata": {},
   "outputs": [
    {
     "name": "stdout",
     "output_type": "stream",
     "text": [
      "root\n",
      " |-- artist: string (nullable = true)\n",
      " |-- auth: string (nullable = true)\n",
      " |-- firstName: string (nullable = true)\n",
      " |-- gender: string (nullable = true)\n",
      " |-- itemInSession: long (nullable = true)\n",
      " |-- lastName: string (nullable = true)\n",
      " |-- length: double (nullable = true)\n",
      " |-- level: string (nullable = true)\n",
      " |-- location: string (nullable = true)\n",
      " |-- method: string (nullable = true)\n",
      " |-- page: string (nullable = true)\n",
      " |-- registration: long (nullable = true)\n",
      " |-- sessionId: long (nullable = true)\n",
      " |-- song: string (nullable = true)\n",
      " |-- status: long (nullable = true)\n",
      " |-- ts: long (nullable = true)\n",
      " |-- userAgent: string (nullable = true)\n",
      " |-- userId: string (nullable = true)\n",
      "\n"
     ]
    }
   ],
   "source": [
    "# Print the df schema\n",
    "df.printSchema()"
   ]
  },
  {
   "cell_type": "code",
   "execution_count": 9,
   "metadata": {},
   "outputs": [
    {
     "data": {
      "text/plain": [
       "448"
      ]
     },
     "execution_count": 9,
     "metadata": {},
     "output_type": "execute_result"
    }
   ],
   "source": [
    "# Get amount of unique users\n",
    "df.select(\"userId\").dropDuplicates().count()"
   ]
  },
  {
   "cell_type": "code",
   "execution_count": 10,
   "metadata": {
    "scrolled": true
   },
   "outputs": [
    {
     "data": {
      "text/plain": [
       "[Row(artist=None, auth='Logged In', firstName='Carter', gender='M', itemInSession=117, lastName='Cook', length=None, level='paid', location='Chicago-Naperville-Elgin, IL-IN-WI', method='PUT', page='Submit Downgrade', registration=1522793334000, sessionId=287, song=None, status=307, ts=1538382247000, userAgent='\"Mozilla/5.0 (iPhone; CPU iPhone OS 7_1_2 like Mac OS X) AppleWebKit/537.51.2 (KHTML, like Gecko) Version/7.0 Mobile/11D257 Safari/9537.53\"', userId='288'),\n",
       " Row(artist=None, auth='Logged In', firstName='Aurora', gender='F', itemInSession=105, lastName='Humphrey', length=None, level='paid', location='Dallas-Fort Worth-Arlington, TX', method='PUT', page='Submit Downgrade', registration=1536795126000, sessionId=537, song=None, status=307, ts=1538447915000, userAgent='\"Mozilla/5.0 (Windows NT 6.3; WOW64) AppleWebKit/537.36 (KHTML, like Gecko) Chrome/36.0.1985.125 Safari/537.36\"', userId='127')]"
      ]
     },
     "execution_count": 10,
     "metadata": {},
     "output_type": "execute_result"
    }
   ],
   "source": [
    "# Show downgrade events\n",
    "df.filter(df['page'] == 'Submit Downgrade').take(2)"
   ]
  },
  {
   "cell_type": "code",
   "execution_count": 11,
   "metadata": {},
   "outputs": [
    {
     "name": "stdout",
     "output_type": "stream",
     "text": [
      "+--------------------+------+\n",
      "|                page| count|\n",
      "+--------------------+------+\n",
      "|              Cancel|    99|\n",
      "|Cancellation Conf...|    99|\n",
      "|    Submit Downgrade|   117|\n",
      "|      Submit Upgrade|   287|\n",
      "|               Error|   503|\n",
      "|       Save Settings|   585|\n",
      "|             Upgrade|   968|\n",
      "|               About|  1026|\n",
      "|                Help|  2644|\n",
      "|            Settings|  2964|\n",
      "|           Downgrade|  3811|\n",
      "|         Thumbs Down|  4911|\n",
      "|              Logout|  5990|\n",
      "|         Roll Advert|  7773|\n",
      "|          Add Friend|  8087|\n",
      "|     Add to Playlist| 12349|\n",
      "|                Home| 19089|\n",
      "|           Thumbs Up| 23826|\n",
      "|            NextSong|432877|\n",
      "+--------------------+------+\n",
      "\n"
     ]
    }
   ],
   "source": [
    "# Compute the distribution of page events\n",
    "df.groupBy('page').count().sort(F.desc('count')).show()"
   ]
  },
  {
   "cell_type": "code",
   "execution_count": 12,
   "metadata": {},
   "outputs": [
    {
     "data": {
      "text/plain": [
       "[Row(page='NextSong'),\n",
       " Row(page='Thumbs Up'),\n",
       " Row(page='Add to Playlist'),\n",
       " Row(page='Add Friend'),\n",
       " Row(page='Home'),\n",
       " Row(page='Roll Advert'),\n",
       " Row(page='Logout'),\n",
       " Row(page='Thumbs Down'),\n",
       " Row(page='Help'),\n",
       " Row(page='Downgrade'),\n",
       " Row(page='Settings'),\n",
       " Row(page='Upgrade'),\n",
       " Row(page='Save Settings'),\n",
       " Row(page='About'),\n",
       " Row(page='Submit Upgrade'),\n",
       " Row(page='Error'),\n",
       " Row(page='Cancel'),\n",
       " Row(page='Cancellation Confirmation'),\n",
       " Row(page='Submit Downgrade')]"
      ]
     },
     "execution_count": 12,
     "metadata": {},
     "output_type": "execute_result"
    }
   ],
   "source": [
    "# Show unique page views\n",
    "df.select('page').distinct().collect()"
   ]
  },
  {
   "cell_type": "code",
   "execution_count": 13,
   "metadata": {},
   "outputs": [],
   "source": [
    "# Create label column\n",
    "flag_cancellation_event = F.udf(lambda x: 1 if x == 'Cancellation Confirmation' else 0, IntegerType())\n",
    "df = df.withColumn('label', flag_cancellation_event('page'))"
   ]
  },
  {
   "cell_type": "markdown",
   "metadata": {},
   "source": [
    "### Calculating Statistics by Hour"
   ]
  },
  {
   "cell_type": "code",
   "execution_count": 15,
   "metadata": {},
   "outputs": [],
   "source": [
    "# Create hour and date columns\n",
    "get_hour = F.udf(lambda x: datetime.datetime.fromtimestamp(x / 1000.0).hour, IntegerType())\n",
    "df = df.withColumn('hour', get_hour(df.ts))\n",
    "\n",
    "get_timestamp = F.udf(lambda x : datetime.datetime.fromtimestamp(x / 1000.0).strftime(\"%Y-%m-%d\"))\n",
    "df = df.withColumn(\"date\", get_timestamp(df.ts))"
   ]
  },
  {
   "cell_type": "code",
   "execution_count": 16,
   "metadata": {},
   "outputs": [],
   "source": [
    "# Count the events per hour\n",
    "songs_by_hour = df.groupBy('hour').count().orderBy(df.hour)\n",
    "songs_by_hour_pd = songs_by_hour.toPandas()\n",
    "songs_by_hour_pd.hour = pd.to_numeric(songs_by_hour_pd.hour)"
   ]
  },
  {
   "cell_type": "code",
   "execution_count": 17,
   "metadata": {
    "scrolled": false
   },
   "outputs": [
    {
     "data": {
      "image/png": "[encoded data removed]",
      "text/plain": [
       "<Figure size 432x288 with 1 Axes>"
      ]
     },
     "metadata": {
      "needs_background": "light"
     },
     "output_type": "display_data"
    }
   ],
   "source": [
    "# Plot the events per hour aggregation\n",
    "plt.scatter(songs_by_hour_pd['hour'], songs_by_hour_pd['count'])\n",
    "plt.xlim(-1, 24)\n",
    "plt.ylim(0, 1.2 * max(songs_by_hour_pd['count']))\n",
    "plt.xlabel('Hour')\n",
    "plt.ylabel('Events');"
   ]
  },
  {
   "cell_type": "markdown",
   "metadata": {},
   "source": [
    "### Churned vs Stayed Users"
   ]
  },
  {
   "cell_type": "markdown",
   "metadata": {},
   "source": [
    "First, we will separate the users who delete their accounts from the users that sticked to the music service. We will use these information for the creation of features later and to calculate aggregated metrics on the gender and song count."
   ]
  },
  {
   "cell_type": "code",
   "execution_count": 18,
   "metadata": {},
   "outputs": [],
   "source": [
    "# Get churned and stayed user sets\n",
    "churned_collect = df.where(df.label==1).select('userId').collect()\n",
    "churned_users = set([int(row.userId) for row in churned_collect])\n",
    "churned_df = df.where(F.col('userId').isin(churned_users))\n",
    "\n",
    "all_collect = df.select('userId').collect()\n",
    "all_users = set([int(row.userId) for row in all_collect])\n",
    "\n",
    "stayed_users = all_users-churned_users\n",
    "stayed_df =  df.where(F.col('userId').isin(stayed_users))"
   ]
  },
  {
   "cell_type": "markdown",
   "metadata": {},
   "source": [
    "#### Song Count"
   ]
  },
  {
   "cell_type": "code",
   "execution_count": 19,
   "metadata": {},
   "outputs": [
    {
     "name": "stdout",
     "output_type": "stream",
     "text": [
      "852.1111111111111\n"
     ]
    }
   ],
   "source": [
    "# Compute average song count per churned user\n",
    "avg_songs_churned = churned_df.filter(df.page=='NextSong').count()/len(churned_users)\n",
    "print(avg_songs_churned)"
   ]
  },
  {
   "cell_type": "code",
   "execution_count": 20,
   "metadata": {},
   "outputs": [
    {
     "name": "stdout",
     "output_type": "stream",
     "text": [
      "998.6189111747851\n"
     ]
    }
   ],
   "source": [
    "# Compute average song count per stayed user\n",
    "avg_songs_stayed = stayed_df.filter(df.page=='NextSong').count()/len(stayed_users)\n",
    "print(avg_songs_stayed)"
   ]
  },
  {
   "cell_type": "markdown",
   "metadata": {},
   "source": [
    "#### Gender"
   ]
  },
  {
   "cell_type": "code",
   "execution_count": 21,
   "metadata": {},
   "outputs": [
    {
     "name": "stdout",
     "output_type": "stream",
     "text": [
      "+------+-----+\n",
      "|gender|count|\n",
      "+------+-----+\n",
      "|     M|   54|\n",
      "|     F|   45|\n",
      "+------+-----+\n",
      "\n"
     ]
    }
   ],
   "source": [
    "# Get gender proportions for churned users\n",
    "churned_df.dropDuplicates(subset = ['userId']).groupBy('gender').count().show()"
   ]
  },
  {
   "cell_type": "code",
   "execution_count": 22,
   "metadata": {},
   "outputs": [
    {
     "name": "stdout",
     "output_type": "stream",
     "text": [
      "+------+-----+\n",
      "|gender|count|\n",
      "+------+-----+\n",
      "|     M|  196|\n",
      "|     F|  153|\n",
      "+------+-----+\n",
      "\n"
     ]
    }
   ],
   "source": [
    "# Get gender proportions for stayed users\n",
    "stayed_df.dropDuplicates(subset = ['userId']).groupBy('gender').count().show()"
   ]
  },
  {
   "cell_type": "markdown",
   "metadata": {},
   "source": [
    "# Feature Engineering\n",
    "\n",
    "Feature engineering plays a key role in big data analytics. Machine learning and data mining algorithms cannot work without data. Little can be achieved if there are few features to represent the underlying data objects, and the quality of results of those algorithms largely depends on the quality of the available features.   \n",
    "Accordingly, we start building out the features we find promising to train the model on."
   ]
  },
  {
   "cell_type": "code",
   "execution_count": 25,
   "metadata": {},
   "outputs": [],
   "source": [
    "# Create features dataframe\n",
    "feature_df = spark.createDataFrame(all_users, IntegerType()).withColumnRenamed('value', 'userId')"
   ]
  },
  {
   "cell_type": "code",
   "execution_count": 26,
   "metadata": {},
   "outputs": [],
   "source": [
    "# Create binary gender column\n",
    "convert_gender = F.udf(lambda x: 1 if x == 'M' else 0, IntegerType())\n",
    "df = df.withColumn('GenderBinary', convert_gender('Gender'))\n",
    "\n",
    "# Add gender as feature\n",
    "feature_df = feature_df.join(df.select(['userId', 'GenderBinary']), 'userId') \\\n",
    "    .dropDuplicates(subset=['userId']) \\\n",
    "    .sort('userId')"
   ]
  },
  {
   "cell_type": "code",
   "execution_count": 27,
   "metadata": {},
   "outputs": [],
   "source": [
    "# Create binary customer level column\n",
    "convert_level = F.udf(lambda x: 1 if x == 'free' else 0, IntegerType())\n",
    "df = df.withColumn('LevelBinary', convert_level('Level'))\n",
    "\n",
    "# Add customer level as feature\n",
    "feature_df = feature_df.join(df.select(['userId', 'ts', 'LevelBinary']), 'userId') \\\n",
    "    .sort(F.desc('ts')) \\\n",
    "    .dropDuplicates(subset=['userId']) \\\n",
    "    .drop('ts')"
   ]
  },
  {
   "cell_type": "code",
   "execution_count": 28,
   "metadata": {},
   "outputs": [],
   "source": [
    "# Create label column\n",
    "create_churn = F.udf(lambda x: 1 if x in churned_users else 0, IntegerType())\n",
    "feature_df = feature_df.withColumn('label', create_churn('userId'))"
   ]
  },
  {
   "cell_type": "code",
   "execution_count": 29,
   "metadata": {},
   "outputs": [],
   "source": [
    "# Create a dictonary which maps page views and PySpark dataframes \n",
    "pages = {}\n",
    "pages['neutralPages'] = df.filter((df.page == 'Cancel') | (df.page == 'Home') | (df.page == 'Logout') \\\n",
    "    | (df.page == 'Save Settings') | (df.page == 'About') | (df.page == 'Settings'))\n",
    "pages['negativePages'] = df.filter((df.page == 'Thumbs Down') | (df.page == 'Roll Advert') | (df.page == 'Help') \\\n",
    "    | (df.page == 'Error'))\n",
    "pages['positivePages'] = df.filter((df.page == 'Add to Playlist') | (df.page == 'Add Friend') | (df.page == 'NextSong') \\\n",
    "    | (df.page == 'Thumbs Up'))\n",
    "pages['downgradePages'] = df.filter((df.page == 'Submit Downgrade') | (df.page == 'Downgrade'))\n",
    "pages['upgradePages'] = df.filter((df.page == 'Upgrade') | (df.page == 'SubmitUpgrade'))"
   ]
  },
  {
   "cell_type": "code",
   "execution_count": 30,
   "metadata": {},
   "outputs": [],
   "source": [
    "# Loop through page views and aggregate the counts by user\n",
    "for key, value in pages.items():\n",
    "    value_df = value.select('userId') \\\n",
    "        .groupBy('userId') \\\n",
    "        .agg({'userId':'count'}) \\\n",
    "        .withColumnRenamed('count(userId)', key)\n",
    "    \n",
    "    # Add page view aggregations as features\n",
    "    feature_df = feature_df.join(value_df, 'userId', 'left').sort('userId') \\\n",
    "        .fillna({key:'0'})"
   ]
  },
  {
   "cell_type": "code",
   "execution_count": 31,
   "metadata": {},
   "outputs": [],
   "source": [
    "def delta_time(x, y):\n",
    "    '''\n",
    "    This function computes the timedelta in days between two unix timestamps.\n",
    "    \n",
    "    INPUT:\n",
    "    x, y - timestamps\n",
    "    \n",
    "    OUTPUT:\n",
    "    Timedelta in days    \n",
    "    '''\n",
    "    val1 = datetime.datetime.fromtimestamp(x/1000.0)\n",
    "    val2 = datetime.datetime.fromtimestamp(y/1000.0)\n",
    "    delta = val2-val1\n",
    "    delta_days = delta.days\n",
    "    if delta_days == 0:\n",
    "        return 1\n",
    "    return delta_days\n",
    "\n",
    "# Create UDF for delta_time\n",
    "delta = F.udf(delta_time, IntegerType())"
   ]
  },
  {
   "cell_type": "code",
   "execution_count": 33,
   "metadata": {},
   "outputs": [],
   "source": [
    "# Create dataframe with users and first timestamp\n",
    "min_date_df =  df.select('userId', 'ts') \\\n",
    "    .groupby('userId') \\\n",
    "    .agg(F.min('ts'))\n",
    "\n",
    "# Create dataframe with users and last timestamp\n",
    "max_date_df = df.select('userId', 'ts') \\\n",
    "    .groupby('userId') \\\n",
    "    .agg(F.max('ts'))\n",
    "\n",
    "# Create dataframe which contains time in days between first and last timestamp per user\n",
    "delta_df = min_date_df.join(max_date_df, 'userId')\n",
    "delta_df = delta_df.withColumn('UserActiveTime', delta('min(ts)', 'max(ts)')).drop('min(ts)', 'max(ts)')\n",
    "\n",
    "# Add UserActiveTime as feature\n",
    "feature_df = feature_df.join(delta_df, 'userId', 'left').sort('userId') \\\n",
    "    .fillna({key:'1'})"
   ]
  },
  {
   "cell_type": "code",
   "execution_count": 34,
   "metadata": {},
   "outputs": [],
   "source": [
    "# Create dataframe with users and date counts\n",
    "dateCount_df = df.select('userId', 'date') \\\n",
    "    .groupby('userId') \\\n",
    "    .agg(F.countDistinct('date')) \\\n",
    "    .withColumnRenamed('count(DISTINCT date)', 'dateCount')\n",
    "\n",
    "# Add date count as feature\n",
    "feature_df = feature_df.join(dateCount_df, 'userId', 'left').sort('userId') \\\n",
    "        .fillna({'dateCount':'1'})"
   ]
  },
  {
   "cell_type": "code",
   "execution_count": 35,
   "metadata": {},
   "outputs": [],
   "source": [
    "# Normalize the features by dividing through UserActiveTime\n",
    "for i in ['neutralPages', 'negativePages', 'positivePages', 'downgradePages', 'upgradePages', 'dateCount']:\n",
    "    feature_df = feature_df.withColumn(i+'Normalized', feature_df[i]/feature_df.UserActiveTime).drop(i)"
   ]
  },
  {
   "cell_type": "code",
   "execution_count": 36,
   "metadata": {},
   "outputs": [],
   "source": [
    "# Create dataframe with users and mean hour\n",
    "hour_df = df.select('userId', 'hour') \\\n",
    "    .groupby('userId') \\\n",
    "    .agg({'hour': 'mean'}) \\\n",
    "    .withColumnRenamed('avg(hour)', 'hourAvg')\n",
    "\n",
    "# Add mean hour as feature\n",
    "feature_df = feature_df.join(hour_df, 'userId')"
   ]
  },
  {
   "cell_type": "code",
   "execution_count": 37,
   "metadata": {},
   "outputs": [],
   "source": [
    "# Create dataframe with users and their activity per day\n",
    "activity_df = df.select('userId', 'date') \\\n",
    "    .groupby('userID', 'date') \\\n",
    "    .count()"
   ]
  },
  {
   "cell_type": "code",
   "execution_count": 38,
   "metadata": {},
   "outputs": [],
   "source": [
    "# Create Spark dataframe with all users\n",
    "activity_user = spark.createDataFrame(all_users, IntegerType()).withColumnRenamed('value', 'userId')"
   ]
  },
  {
   "cell_type": "code",
   "execution_count": 39,
   "metadata": {
    "scrolled": true
   },
   "outputs": [],
   "source": [
    "# initialize slopes\n",
    "slopes = []\n",
    "for user in all_users:\n",
    "    # Create pandas dataframe for slope calculation\n",
    "    activity_pandas = activity_df.filter(activity_df['userID'] == user).sort(F.asc('date')).toPandas()\n",
    "    if activity_pandas.shape[0]==1:\n",
    "        slopes.append(0)\n",
    "        continue\n",
    "    # Fit a line through the user activity counts and retrieve its slope\n",
    "    slope = np.polyfit(activity_pandas.index, activity_pandas['count'], 1)[0]\n",
    "    slopes.append(slope)"
   ]
  },
  {
   "cell_type": "code",
   "execution_count": 40,
   "metadata": {},
   "outputs": [],
   "source": [
    "def outliers_iqr(data):\n",
    "    '''\n",
    "    This function returns the indices of outliers in data.\n",
    "    \n",
    "    INPUT:\n",
    "    data - list containing values\n",
    "    \n",
    "    OUTPUT:\n",
    "    Outlier indices    \n",
    "    '''\n",
    "    avg = np.mean(data)\n",
    "    lower_bound = avg - 2*np.std(data)\n",
    "    upper_bound = avg + 2*np.std(data)\n",
    "    return np.where((data > upper_bound) | (data < lower_bound))\n",
    "\n",
    "# Set outlier slopes to zero\n",
    "for i in outliers_iqr(slopes)[0]:\n",
    "    slopes[i] = 0"
   ]
  },
  {
   "cell_type": "code",
   "execution_count": 42,
   "metadata": {},
   "outputs": [],
   "source": [
    "# Create dataframe from slopes\n",
    "slope_df = spark.createDataFrame([float(i) for i in slopes], FloatType()).withColumnRenamed('value', 'Slope')"
   ]
  },
  {
   "cell_type": "code",
   "execution_count": 43,
   "metadata": {},
   "outputs": [],
   "source": [
    "# Join activity_user and slope_df\n",
    "activity_user = activity_user.withColumn(\"row_idx\", F.monotonically_increasing_id())\n",
    "slope_df = slope_df.withColumn(\"row_idx\", F.monotonically_increasing_id())\n",
    "user_slopes = activity_user.join(slope_df, activity_user.row_idx == slope_df.row_idx).\\\n",
    "             drop(\"row_idx\")"
   ]
  },
  {
   "cell_type": "code",
   "execution_count": 44,
   "metadata": {},
   "outputs": [],
   "source": [
    "# Add slopes as feature\n",
    "feature_df = feature_df.join(user_slopes, 'userId').sort('userId')"
   ]
  },
  {
   "cell_type": "code",
   "execution_count": 45,
   "metadata": {},
   "outputs": [
    {
     "data": {
      "text/html": [
       "<div>\n",
       "<style scoped>\n",
       "    .dataframe tbody tr th:only-of-type {\n",
       "        vertical-align: middle;\n",
       "    }\n",
       "\n",
       "    .dataframe tbody tr th {\n",
       "        vertical-align: top;\n",
       "    }\n",
       "\n",
       "    .dataframe thead th {\n",
       "        text-align: right;\n",
       "    }\n",
       "</style>\n",
       "<table border=\"1\" class=\"dataframe\">\n",
       "  <thead>\n",
       "    <tr style=\"text-align: right;\">\n",
       "      <th></th>\n",
       "      <th>userId</th>\n",
       "      <th>GenderBinary</th>\n",
       "      <th>LevelBinary</th>\n",
       "      <th>label</th>\n",
       "      <th>UserActiveTime</th>\n",
       "      <th>neutralPagesNormalized</th>\n",
       "      <th>negativePagesNormalized</th>\n",
       "      <th>positivePagesNormalized</th>\n",
       "      <th>downgradePagesNormalized</th>\n",
       "      <th>upgradePagesNormalized</th>\n",
       "      <th>dateCountNormalized</th>\n",
       "      <th>hourAvg</th>\n",
       "      <th>Slope</th>\n",
       "    </tr>\n",
       "  </thead>\n",
       "  <tbody>\n",
       "    <tr>\n",
       "      <th>0</th>\n",
       "      <td>2</td>\n",
       "      <td>0</td>\n",
       "      <td>0</td>\n",
       "      <td>0</td>\n",
       "      <td>53</td>\n",
       "      <td>1.207547</td>\n",
       "      <td>0.339623</td>\n",
       "      <td>16.075472</td>\n",
       "      <td>0.132075</td>\n",
       "      <td>0.000000</td>\n",
       "      <td>0.207547</td>\n",
       "      <td>13.234857</td>\n",
       "      <td>-2.263636</td>\n",
       "    </tr>\n",
       "    <tr>\n",
       "      <th>1</th>\n",
       "      <td>3</td>\n",
       "      <td>1</td>\n",
       "      <td>1</td>\n",
       "      <td>0</td>\n",
       "      <td>1</td>\n",
       "      <td>0.000000</td>\n",
       "      <td>1.000000</td>\n",
       "      <td>24.000000</td>\n",
       "      <td>0.000000</td>\n",
       "      <td>0.000000</td>\n",
       "      <td>1.000000</td>\n",
       "      <td>9.440000</td>\n",
       "      <td>0.000000</td>\n",
       "    </tr>\n",
       "    <tr>\n",
       "      <th>2</th>\n",
       "      <td>4</td>\n",
       "      <td>1</td>\n",
       "      <td>1</td>\n",
       "      <td>0</td>\n",
       "      <td>56</td>\n",
       "      <td>0.553571</td>\n",
       "      <td>0.785714</td>\n",
       "      <td>8.303571</td>\n",
       "      <td>0.000000</td>\n",
       "      <td>0.035714</td>\n",
       "      <td>0.232143</td>\n",
       "      <td>13.219557</td>\n",
       "      <td>2.994505</td>\n",
       "    </tr>\n",
       "    <tr>\n",
       "      <th>3</th>\n",
       "      <td>5</td>\n",
       "      <td>1</td>\n",
       "      <td>1</td>\n",
       "      <td>0</td>\n",
       "      <td>23</td>\n",
       "      <td>0.782609</td>\n",
       "      <td>0.869565</td>\n",
       "      <td>10.347826</td>\n",
       "      <td>0.000000</td>\n",
       "      <td>0.086957</td>\n",
       "      <td>0.173913</td>\n",
       "      <td>14.665468</td>\n",
       "      <td>38.000000</td>\n",
       "    </tr>\n",
       "    <tr>\n",
       "      <th>4</th>\n",
       "      <td>6</td>\n",
       "      <td>1</td>\n",
       "      <td>0</td>\n",
       "      <td>0</td>\n",
       "      <td>59</td>\n",
       "      <td>1.694915</td>\n",
       "      <td>1.101695</td>\n",
       "      <td>20.779661</td>\n",
       "      <td>0.186441</td>\n",
       "      <td>0.067797</td>\n",
       "      <td>0.322034</td>\n",
       "      <td>11.053977</td>\n",
       "      <td>-2.157895</td>\n",
       "    </tr>\n",
       "  </tbody>\n",
       "</table>\n",
       "</div>"
      ],
      "text/plain": [
       "   userId  GenderBinary  LevelBinary  label  UserActiveTime  \\\n",
       "0       2             0            0      0              53   \n",
       "1       3             1            1      0               1   \n",
       "2       4             1            1      0              56   \n",
       "3       5             1            1      0              23   \n",
       "4       6             1            0      0              59   \n",
       "\n",
       "   neutralPagesNormalized  negativePagesNormalized  positivePagesNormalized  \\\n",
       "0                1.207547                 0.339623                16.075472   \n",
       "1                0.000000                 1.000000                24.000000   \n",
       "2                0.553571                 0.785714                 8.303571   \n",
       "3                0.782609                 0.869565                10.347826   \n",
       "4                1.694915                 1.101695                20.779661   \n",
       "\n",
       "   downgradePagesNormalized  upgradePagesNormalized  dateCountNormalized  \\\n",
       "0                  0.132075                0.000000             0.207547   \n",
       "1                  0.000000                0.000000             1.000000   \n",
       "2                  0.000000                0.035714             0.232143   \n",
       "3                  0.000000                0.086957             0.173913   \n",
       "4                  0.186441                0.067797             0.322034   \n",
       "\n",
       "     hourAvg      Slope  \n",
       "0  13.234857  -2.263636  \n",
       "1   9.440000   0.000000  \n",
       "2  13.219557   2.994505  \n",
       "3  14.665468  38.000000  \n",
       "4  11.053977  -2.157895  "
      ]
     },
     "execution_count": 45,
     "metadata": {},
     "output_type": "execute_result"
    }
   ],
   "source": [
    "feature_df.toPandas().head()"
   ]
  },
  {
   "cell_type": "code",
   "execution_count": 46,
   "metadata": {},
   "outputs": [],
   "source": [
    "# UDF for converting column type from vector to double type\n",
    "unlist = F.udf(lambda x: round(float(list(x)[0]),3), DoubleType())\n",
    "\n",
    "# Iterate over columns to be scaled\n",
    "for i in ['neutralPagesNormalized', 'negativePagesNormalized', 'positivePagesNormalized', \\\n",
    "          'downgradePagesNormalized', 'upgradePagesNormalized', 'dateCountNormalized', \\\n",
    "         'hourAvg', 'UserActiveTime', 'Slope']:\n",
    "    # VectorAssembler Transformation - Convert column to vector type\n",
    "    assembler = VectorAssembler(inputCols=[i],outputCol=i+\"_Vect\")\n",
    "\n",
    "    # MinMaxScaler Transformation\n",
    "    scaler = MinMaxScaler(inputCol=i+\"_Vect\", outputCol=i+\"_Scaled\")\n",
    "\n",
    "    # Pipeline of VectorAssembler and MinMaxScaler\n",
    "    pipeline = Pipeline(stages=[assembler, scaler])\n",
    "\n",
    "    # Fitting pipeline on dataframe\n",
    "    feature_df = pipeline.fit(feature_df).transform(feature_df) \\\n",
    "        .withColumn(i+\"_Scaled\", unlist(i+\"_Scaled\")).drop(i+\"_Vect\")\n",
    "\n",
    "# Merge columns to one feature vector\n",
    "assembler = VectorAssembler(inputCols=['neutralPagesNormalized_Scaled', 'negativePagesNormalized_Scaled', 'positivePagesNormalized_Scaled', \\\n",
    "                                        'downgradePagesNormalized_Scaled', 'upgradePagesNormalized_Scaled', 'dateCountNormalized_Scaled', \\\n",
    "                                        'hourAvg_Scaled', 'UserActiveTime_Scaled', 'Slope_Scaled', 'LevelBinary', \\\n",
    "                                       'GenderBinary'], outputCol='features')\n",
    "feature_df = assembler.transform(feature_df)"
   ]
  },
  {
   "cell_type": "code",
   "execution_count": 47,
   "metadata": {},
   "outputs": [],
   "source": [
    "# Save features dataframe\n",
    "feature_df.write.parquet(\"feature_df.parquet\")"
   ]
  },
  {
   "cell_type": "code",
   "execution_count": 48,
   "metadata": {},
   "outputs": [
    {
     "data": {
      "text/html": [
       "<div>\n",
       "<style scoped>\n",
       "    .dataframe tbody tr th:only-of-type {\n",
       "        vertical-align: middle;\n",
       "    }\n",
       "\n",
       "    .dataframe tbody tr th {\n",
       "        vertical-align: top;\n",
       "    }\n",
       "\n",
       "    .dataframe thead th {\n",
       "        text-align: right;\n",
       "    }\n",
       "</style>\n",
       "<table border=\"1\" class=\"dataframe\">\n",
       "  <thead>\n",
       "    <tr style=\"text-align: right;\">\n",
       "      <th></th>\n",
       "      <th>userId</th>\n",
       "      <th>GenderBinary</th>\n",
       "      <th>LevelBinary</th>\n",
       "      <th>label</th>\n",
       "      <th>UserActiveTime</th>\n",
       "      <th>neutralPagesNormalized</th>\n",
       "      <th>negativePagesNormalized</th>\n",
       "      <th>positivePagesNormalized</th>\n",
       "      <th>downgradePagesNormalized</th>\n",
       "      <th>upgradePagesNormalized</th>\n",
       "      <th>...</th>\n",
       "      <th>neutralPagesNormalized_Scaled</th>\n",
       "      <th>negativePagesNormalized_Scaled</th>\n",
       "      <th>positivePagesNormalized_Scaled</th>\n",
       "      <th>downgradePagesNormalized_Scaled</th>\n",
       "      <th>upgradePagesNormalized_Scaled</th>\n",
       "      <th>dateCountNormalized_Scaled</th>\n",
       "      <th>hourAvg_Scaled</th>\n",
       "      <th>UserActiveTime_Scaled</th>\n",
       "      <th>Slope_Scaled</th>\n",
       "      <th>features</th>\n",
       "    </tr>\n",
       "  </thead>\n",
       "  <tbody>\n",
       "    <tr>\n",
       "      <th>0</th>\n",
       "      <td>2</td>\n",
       "      <td>0</td>\n",
       "      <td>0</td>\n",
       "      <td>0</td>\n",
       "      <td>53</td>\n",
       "      <td>1.207547</td>\n",
       "      <td>0.339623</td>\n",
       "      <td>16.075472</td>\n",
       "      <td>0.132075</td>\n",
       "      <td>0.000000</td>\n",
       "      <td>...</td>\n",
       "      <td>0.046</td>\n",
       "      <td>0.023</td>\n",
       "      <td>0.030</td>\n",
       "      <td>0.017</td>\n",
       "      <td>0.000</td>\n",
       "      <td>0.057</td>\n",
       "      <td>0.484</td>\n",
       "      <td>0.881</td>\n",
       "      <td>0.500</td>\n",
       "      <td>[0.046, 0.023, 0.03, 0.017, 0.0, 0.057, 0.484,...</td>\n",
       "    </tr>\n",
       "    <tr>\n",
       "      <th>1</th>\n",
       "      <td>3</td>\n",
       "      <td>1</td>\n",
       "      <td>1</td>\n",
       "      <td>0</td>\n",
       "      <td>1</td>\n",
       "      <td>0.000000</td>\n",
       "      <td>1.000000</td>\n",
       "      <td>24.000000</td>\n",
       "      <td>0.000000</td>\n",
       "      <td>0.000000</td>\n",
       "      <td>...</td>\n",
       "      <td>0.000</td>\n",
       "      <td>0.067</td>\n",
       "      <td>0.045</td>\n",
       "      <td>0.000</td>\n",
       "      <td>0.000</td>\n",
       "      <td>0.325</td>\n",
       "      <td>0.261</td>\n",
       "      <td>0.000</td>\n",
       "      <td>0.524</td>\n",
       "      <td>[0.0, 0.067, 0.045, 0.0, 0.0, 0.325, 0.261, 0....</td>\n",
       "    </tr>\n",
       "    <tr>\n",
       "      <th>2</th>\n",
       "      <td>4</td>\n",
       "      <td>1</td>\n",
       "      <td>1</td>\n",
       "      <td>0</td>\n",
       "      <td>56</td>\n",
       "      <td>0.553571</td>\n",
       "      <td>0.785714</td>\n",
       "      <td>8.303571</td>\n",
       "      <td>0.000000</td>\n",
       "      <td>0.035714</td>\n",
       "      <td>...</td>\n",
       "      <td>0.021</td>\n",
       "      <td>0.052</td>\n",
       "      <td>0.015</td>\n",
       "      <td>0.000</td>\n",
       "      <td>0.018</td>\n",
       "      <td>0.065</td>\n",
       "      <td>0.484</td>\n",
       "      <td>0.932</td>\n",
       "      <td>0.555</td>\n",
       "      <td>[0.021, 0.052, 0.015, 0.0, 0.018, 0.065, 0.484...</td>\n",
       "    </tr>\n",
       "    <tr>\n",
       "      <th>3</th>\n",
       "      <td>5</td>\n",
       "      <td>1</td>\n",
       "      <td>1</td>\n",
       "      <td>0</td>\n",
       "      <td>23</td>\n",
       "      <td>0.782609</td>\n",
       "      <td>0.869565</td>\n",
       "      <td>10.347826</td>\n",
       "      <td>0.000000</td>\n",
       "      <td>0.086957</td>\n",
       "      <td>...</td>\n",
       "      <td>0.030</td>\n",
       "      <td>0.058</td>\n",
       "      <td>0.019</td>\n",
       "      <td>0.000</td>\n",
       "      <td>0.043</td>\n",
       "      <td>0.046</td>\n",
       "      <td>0.569</td>\n",
       "      <td>0.373</td>\n",
       "      <td>0.917</td>\n",
       "      <td>[0.03, 0.058, 0.019, 0.0, 0.043, 0.046, 0.569,...</td>\n",
       "    </tr>\n",
       "    <tr>\n",
       "      <th>4</th>\n",
       "      <td>6</td>\n",
       "      <td>1</td>\n",
       "      <td>0</td>\n",
       "      <td>0</td>\n",
       "      <td>59</td>\n",
       "      <td>1.694915</td>\n",
       "      <td>1.101695</td>\n",
       "      <td>20.779661</td>\n",
       "      <td>0.186441</td>\n",
       "      <td>0.067797</td>\n",
       "      <td>...</td>\n",
       "      <td>0.065</td>\n",
       "      <td>0.073</td>\n",
       "      <td>0.039</td>\n",
       "      <td>0.023</td>\n",
       "      <td>0.034</td>\n",
       "      <td>0.096</td>\n",
       "      <td>0.356</td>\n",
       "      <td>0.983</td>\n",
       "      <td>0.501</td>\n",
       "      <td>[0.065, 0.073, 0.039, 0.023, 0.034, 0.096, 0.3...</td>\n",
       "    </tr>\n",
       "  </tbody>\n",
       "</table>\n",
       "<p>5 rows × 23 columns</p>\n",
       "</div>"
      ],
      "text/plain": [
       "   userId  GenderBinary  LevelBinary  label  UserActiveTime  \\\n",
       "0       2             0            0      0              53   \n",
       "1       3             1            1      0               1   \n",
       "2       4             1            1      0              56   \n",
       "3       5             1            1      0              23   \n",
       "4       6             1            0      0              59   \n",
       "\n",
       "   neutralPagesNormalized  negativePagesNormalized  positivePagesNormalized  \\\n",
       "0                1.207547                 0.339623                16.075472   \n",
       "1                0.000000                 1.000000                24.000000   \n",
       "2                0.553571                 0.785714                 8.303571   \n",
       "3                0.782609                 0.869565                10.347826   \n",
       "4                1.694915                 1.101695                20.779661   \n",
       "\n",
       "   downgradePagesNormalized  upgradePagesNormalized  ...  \\\n",
       "0                  0.132075                0.000000  ...   \n",
       "1                  0.000000                0.000000  ...   \n",
       "2                  0.000000                0.035714  ...   \n",
       "3                  0.000000                0.086957  ...   \n",
       "4                  0.186441                0.067797  ...   \n",
       "\n",
       "   neutralPagesNormalized_Scaled  negativePagesNormalized_Scaled  \\\n",
       "0                          0.046                           0.023   \n",
       "1                          0.000                           0.067   \n",
       "2                          0.021                           0.052   \n",
       "3                          0.030                           0.058   \n",
       "4                          0.065                           0.073   \n",
       "\n",
       "   positivePagesNormalized_Scaled  downgradePagesNormalized_Scaled  \\\n",
       "0                           0.030                            0.017   \n",
       "1                           0.045                            0.000   \n",
       "2                           0.015                            0.000   \n",
       "3                           0.019                            0.000   \n",
       "4                           0.039                            0.023   \n",
       "\n",
       "   upgradePagesNormalized_Scaled  dateCountNormalized_Scaled  hourAvg_Scaled  \\\n",
       "0                          0.000                       0.057           0.484   \n",
       "1                          0.000                       0.325           0.261   \n",
       "2                          0.018                       0.065           0.484   \n",
       "3                          0.043                       0.046           0.569   \n",
       "4                          0.034                       0.096           0.356   \n",
       "\n",
       "   UserActiveTime_Scaled  Slope_Scaled  \\\n",
       "0                  0.881         0.500   \n",
       "1                  0.000         0.524   \n",
       "2                  0.932         0.555   \n",
       "3                  0.373         0.917   \n",
       "4                  0.983         0.501   \n",
       "\n",
       "                                            features  \n",
       "0  [0.046, 0.023, 0.03, 0.017, 0.0, 0.057, 0.484,...  \n",
       "1  [0.0, 0.067, 0.045, 0.0, 0.0, 0.325, 0.261, 0....  \n",
       "2  [0.021, 0.052, 0.015, 0.0, 0.018, 0.065, 0.484...  \n",
       "3  [0.03, 0.058, 0.019, 0.0, 0.043, 0.046, 0.569,...  \n",
       "4  [0.065, 0.073, 0.039, 0.023, 0.034, 0.096, 0.3...  \n",
       "\n",
       "[5 rows x 23 columns]"
      ]
     },
     "execution_count": 48,
     "metadata": {},
     "output_type": "execute_result"
    }
   ],
   "source": [
    "feature_df.toPandas().head()"
   ]
  },
  {
   "cell_type": "markdown",
   "metadata": {},
   "source": [
    "# Modeling\n",
    "\n",
    "After the creation of features, we can move on and split the full dataset into train and test datasets. We will test out several common machine learning methods used for classification tasks. The accuracy of the models will be evaluated and parameters tuned accordingly. Based on the F1-Score, Precision, Recall and ROC Area we will determine the winning model."
   ]
  },
  {
   "cell_type": "code",
   "execution_count": 50,
   "metadata": {},
   "outputs": [],
   "source": [
    "# Read in the features dataframe and split it into training and testing\n",
    "feature_df = sqlContext.read.parquet(\"feature_df.parquet\")\n",
    "train, test = feature_df.randomSplit([0.7, 0.3], seed = 42)\n",
    "\n",
    "# Create binary evaluator object\n",
    "evaluator = BinaryClassificationEvaluator()"
   ]
  },
  {
   "cell_type": "code",
   "execution_count": 51,
   "metadata": {},
   "outputs": [
    {
     "name": "stdout",
     "output_type": "stream",
     "text": [
      "Training Dataset Count: 322\n",
      "Test Dataset Count: 126\n"
     ]
    }
   ],
   "source": [
    "print(\"Training Dataset Count: \" + str(train.count()))\n",
    "print(\"Test Dataset Count: \" + str(test.count()))"
   ]
  },
  {
   "cell_type": "code",
   "execution_count": null,
   "metadata": {},
   "outputs": [],
   "source": [
    "# Check for imbalance in the label distribution\n",
    "plt.hist(feature_df.toPandas()['label'])\n",
    "plt.show()"
   ]
  },
  {
   "cell_type": "markdown",
   "metadata": {},
   "source": [
    "The histogram above depicts that the classes (stayed and churned users) are not represented equally. "
   ]
  },
  {
   "cell_type": "markdown",
   "metadata": {},
   "source": [
    "### Logistic Regression"
   ]
  },
  {
   "cell_type": "code",
   "execution_count": 93,
   "metadata": {},
   "outputs": [],
   "source": [
    "# Calculate a balancing ratio to account for the class imbalance\n",
    "balancing_ratio = train.filter(train['label']==0).count()/train.count()\n",
    "train=train.withColumn(\"classWeights\", F.when(train.label == 1,balancing_ratio).otherwise(1-balancing_ratio))\n",
    "\n",
    "# Create a logistic regression object\n",
    "lr = LogisticRegression(featuresCol = 'features', labelCol = 'label', weightCol=\"classWeights\", maxIter=10)"
   ]
  },
  {
   "cell_type": "code",
   "execution_count": 102,
   "metadata": {},
   "outputs": [
    {
     "name": "stdout",
     "output_type": "stream",
     "text": [
      "Test Area Under ROC 0.8772277227722772\n"
     ]
    }
   ],
   "source": [
    "# Create ParamGrid for Cross Validation\n",
    "paramGrid = (ParamGridBuilder()\n",
    "             .addGrid(lr.regParam, [0.01, 0.5, 2.0])\n",
    "             .addGrid(lr.elasticNetParam, [0.0, 0.5, 1.0])\n",
    "             .addGrid(lr.maxIter, [1, 5, 10])\n",
    "             .build())\n",
    "\n",
    "cv = CrossValidator(estimator=lr, estimatorParamMaps=paramGrid, evaluator=evaluator, numFolds=5)\n",
    "\n",
    "# Run cross validations\n",
    "cvModel = cv.fit(train)\n",
    "predictions = cvModel.transform(test)\n",
    "predictions_pandas = predictions.toPandas()\n",
    "print('Test Area Under ROC: ', evaluator.evaluate(predictions))"
   ]
  },
  {
   "cell_type": "markdown",
   "metadata": {},
   "source": [
    "The spark.ml implementation of logistic regression also supports extracting a summary of the model over the training set."
   ]
  },
  {
   "cell_type": "code",
   "execution_count": 100,
   "metadata": {},
   "outputs": [
    {
     "data": {
      "image/png": "[encoded data removed]",
      "text/plain": [
       "<Figure size 432x288 with 1 Axes>"
      ]
     },
     "metadata": {
      "needs_background": "light"
     },
     "output_type": "display_data"
    },
    {
     "name": "stdout",
     "output_type": "stream",
     "text": [
      "Training set areaUnderROC: 0.8985941586748033\n"
     ]
    }
   ],
   "source": [
    "# Plot the roc curve\n",
    "trainingSummary = cv.summary\n",
    "roc = trainingSummary.roc.toPandas()\n",
    "plt.plot(roc['FPR'],roc['TPR'])\n",
    "plt.xlabel('False Positive Rate')\n",
    "plt.ylabel('True Positive Rate')\n",
    "plt.title('ROC Curve')\n",
    "plt.show()\n",
    "print('Training set areaUnderROC: ' + str(trainingSummary.areaUnderROC))"
   ]
  },
  {
   "cell_type": "code",
   "execution_count": 101,
   "metadata": {},
   "outputs": [
    {
     "data": {
      "image/png": "[encoded data removed]",
      "text/plain": [
       "<Figure size 432x288 with 1 Axes>"
      ]
     },
     "metadata": {
      "needs_background": "light"
     },
     "output_type": "display_data"
    }
   ],
   "source": [
    "# Plot the recall-precision curve\n",
    "pr = trainingSummary.pr.toPandas()\n",
    "plt.plot(pr['recall'],pr['precision'])\n",
    "plt.ylabel('Precision')\n",
    "plt.xlabel('Recall')\n",
    "plt.show()"
   ]
  },
  {
   "cell_type": "code",
   "execution_count": 103,
   "metadata": {},
   "outputs": [
    {
     "name": "stdout",
     "output_type": "stream",
     "text": [
      "F1-Score: 0.6562499999999999, Recall: 0.84, Precision: 0.5384615384615384\n"
     ]
    }
   ],
   "source": [
    "# Calculate and print f1, recall and precision scores\n",
    "f1 = f1_score(predictions_pandas.label, predictions_pandas.prediction)\n",
    "recall = recall_score(predictions_pandas.label, predictions_pandas.prediction)\n",
    "precision = precision_score(predictions_pandas.label, predictions_pandas.prediction)\n",
    "\n",
    "print('F1-Score: {}, Recall: {}, Precision: {}'.format(f1, recall, precision)) "
   ]
  },
  {
   "cell_type": "markdown",
   "metadata": {},
   "source": [
    "### Gradient-Boosted Tree Classifier"
   ]
  },
  {
   "cell_type": "code",
   "execution_count": 57,
   "metadata": {},
   "outputs": [],
   "source": [
    "# Create gradient-boosted tree classifier object\n",
    "gbt = GBTClassifier()"
   ]
  },
  {
   "cell_type": "code",
   "execution_count": 59,
   "metadata": {},
   "outputs": [
    {
     "data": {
      "text/plain": [
       "0.8724752475247525"
      ]
     },
     "execution_count": 59,
     "metadata": {},
     "output_type": "execute_result"
    }
   ],
   "source": [
    "# Create ParamGrid for Cross Validation\n",
    "paramGrid = (ParamGridBuilder()\n",
    "             .addGrid(gbt.maxDepth, [2, 4, 6])\n",
    "             .addGrid(gbt.maxBins, [20, 60])\n",
    "             .addGrid(gbt.maxIter, [10, 20])\n",
    "             .build())\n",
    "cv = CrossValidator(estimator=gbt, estimatorParamMaps=paramGrid, evaluator=evaluator, numFolds=5)\n",
    "\n",
    "# Run cross validations\n",
    "cvModel = cv.fit(train)\n",
    "predictions = cvModel.transform(test)\n",
    "predictions_pandas = predictions.toPandas()\n",
    "evaluator.evaluate(predictions)"
   ]
  },
  {
   "cell_type": "code",
   "execution_count": 60,
   "metadata": {},
   "outputs": [
    {
     "name": "stdout",
     "output_type": "stream",
     "text": [
      "F1-Score: 0.5833333333333334, Recall: 0.56, Precision: 0.6086956521739131\n"
     ]
    }
   ],
   "source": [
    "# Calculate and print f1, recall and precision scores\n",
    "f1 = f1_score(predictions_pandas.label, predictions_pandas.prediction)\n",
    "recall = recall_score(predictions_pandas.label, predictions_pandas.prediction)\n",
    "precision = precision_score(predictions_pandas.label, predictions_pandas.prediction)\n",
    "\n",
    "print('F1-Score: {}, Recall: {}, Precision: {}'.format(f1, recall, precision)) "
   ]
  },
  {
   "cell_type": "markdown",
   "metadata": {},
   "source": [
    "### Decision Tree Classifier"
   ]
  },
  {
   "cell_type": "code",
   "execution_count": 61,
   "metadata": {},
   "outputs": [],
   "source": [
    "# Create decision tree classifier\n",
    "dt = DecisionTreeClassifier(featuresCol = 'features', labelCol = 'label')"
   ]
  },
  {
   "cell_type": "code",
   "execution_count": null,
   "metadata": {},
   "outputs": [],
   "source": [
    "# Create ParamGrid for Cross Validation\n",
    "paramGrid = (ParamGridBuilder()\n",
    "             .addGrid(dt.maxDepth, [2, 4, 6])\n",
    "             .addGrid(dt.maxBins, [20, 60])\n",
    "             .addGrid(dt.impurity, ['gini', 'entropy'])\n",
    "             .build())\n",
    "cv = CrossValidator(estimator=dt, estimatorParamMaps=paramGrid, evaluator=evaluator, numFolds=5)\n",
    "\n",
    "# Run cross validations\n",
    "cvModel = cv.fit(train)\n",
    "predictions = cvModel.transform(test)\n",
    "predictions_pandas = predictions.toPandas()\n",
    "evaluator.evaluate(predictions)"
   ]
  },
  {
   "cell_type": "code",
   "execution_count": 62,
   "metadata": {},
   "outputs": [
    {
     "name": "stdout",
     "output_type": "stream",
     "text": [
      "F1-Score: 0.6071428571428571, Recall: 0.68, Precision: 0.5483870967741935\n"
     ]
    }
   ],
   "source": [
    "# Calculate and print f1, recall and precision scores\n",
    "f1 = f1_score(predictions_pandas.label, predictions_pandas.prediction)\n",
    "recall = recall_score(predictions_pandas.label, predictions_pandas.prediction)\n",
    "precision = precision_score(predictions_pandas.label, predictions_pandas.prediction)\n",
    "\n",
    "print('F1-Score: {}, Recall: {}, Precision: {}'.format(f1, recall, precision)) "
   ]
  },
  {
   "cell_type": "markdown",
   "metadata": {},
   "source": [
    "### Support Vector Machines"
   ]
  },
  {
   "cell_type": "code",
   "execution_count": null,
   "metadata": {},
   "outputs": [],
   "source": [
    "# Create support vector machine classifier\n",
    "svm = LinearSVC(featuresCol = 'features', labelCol = 'label')"
   ]
  },
  {
   "cell_type": "code",
   "execution_count": null,
   "metadata": {},
   "outputs": [],
   "source": [
    "# Create ParamGrid for Cross Validation\n",
    "paramGrid = (ParamGridBuilder()\n",
    "             .addGrid(svm.maxIter, [5, 20, 100])\n",
    "             .addGrid(svm.regParam, [0.1, 1])\n",
    "             .addGrid(svm.fitIntercept, [True, False])\n",
    "             .addGrid(svm.standardization, [True, False])\n",
    "             .build())\n",
    "cv = CrossValidator(estimator=svm, estimatorParamMaps=paramGrid, evaluator=evaluator, numFolds=5)\n",
    "\n",
    "# Run cross validations\n",
    "cvModel = cv.fit(train)\n",
    "predictions = cvModel.transform(test)\n",
    "predictions_pandas = predictions.toPandas()\n",
    "evaluator.evaluate(predictions)"
   ]
  },
  {
   "cell_type": "code",
   "execution_count": null,
   "metadata": {},
   "outputs": [],
   "source": [
    "# Print the coefficients and intercept for linear SVC\n",
    "print(\"Coefficients: \" + str(cvModel.coefficients))\n",
    "print(\"Intercept: \" + str(cvModel.intercept))"
   ]
  },
  {
   "cell_type": "code",
   "execution_count": null,
   "metadata": {},
   "outputs": [],
   "source": [
    "# Calculate and print f1, recall and precision scores\n",
    "f1 = f1_score(predictions_pandas.label, predictions_pandas.prediction)\n",
    "recall = recall_score(predictions_pandas.label, predictions_pandas.prediction)\n",
    "precision = precision_score(predictions_pandas.label, predictions_pandas.prediction)\n",
    "\n",
    "print('F1-Score: {}, Recall: {}, Precision: {}'.format(f1, recall, precision)) "
   ]
  },
  {
   "cell_type": "markdown",
   "metadata": {},
   "source": [
    "### Naive Bayes"
   ]
  },
  {
   "cell_type": "code",
   "execution_count": null,
   "metadata": {},
   "outputs": [],
   "source": [
    "# Create support vector machine classifier\n",
    "nb = NaiveBayes(featuresCol = 'features', labelCol = 'label')"
   ]
  },
  {
   "cell_type": "code",
   "execution_count": null,
   "metadata": {},
   "outputs": [],
   "source": [
    "# Create ParamGrid for Cross Validation\n",
    "paramGrid = (ParamGridBuilder()\n",
    "             .addGrid(nb.smoothing, [0.0, 0.2, 0.4, 0.6, 0.8, 1.0])\n",
    "             .addGrid(nb.modelType, ['multinomial', 'bernoulli'])\n",
    "             .build())\n",
    "cv = CrossValidator(estimator=nb, estimatorParamMaps=paramGrid, evaluator=evaluator, numFolds=5)\n",
    "\n",
    "# Run cross validations\n",
    "cvModel = cv.fit(train)\n",
    "predictions = cvModel.transform(test)\n",
    "predictions_pandas = predictions.toPandas()\n",
    "evaluator.evaluate(predictions)"
   ]
  },
  {
   "cell_type": "code",
   "execution_count": null,
   "metadata": {},
   "outputs": [],
   "source": [
    "# Calculate and print f1, recall and precision scores\n",
    "f1 = f1_score(predictions_pandas.label, predictions_pandas.prediction)\n",
    "recall = recall_score(predictions_pandas.label, predictions_pandas.prediction)\n",
    "precision = precision_score(predictions_pandas.label, predictions_pandas.prediction)\n",
    "\n",
    "print('F1-Score: {}, Recall: {}, Precision: {}'.format(f1, recall, precision)) "
   ]
  },
  {
   "cell_type": "code",
   "execution_count": null,
   "metadata": {},
   "outputs": [],
   "source": []
  },
  {
   "cell_type": "code",
   "execution_count": null,
   "metadata": {},
   "outputs": [],
   "source": []
  },
  {
   "cell_type": "markdown",
   "metadata": {},
   "source": [
    "# Conclusion\n",
    "\n"
   ]
  },
  {
   "cell_type": "markdown",
   "metadata": {},
   "source": [
    "The goal of this project was to exploit the capabilities of Apache Spark's analytics engine for large-scale data processing to detect customers which are about to stop using Sparkify's music streaming service.\n",
    "\n",
    "We applied the typical steps of the data science process like getting understanding about the data, data preparation, modeling and evaluation.\n",
    "\n",
    "The final model is able to detect churning customers with a recall score of . This means that we can detect ..."
   ]
  },
  {
   "cell_type": "code",
   "execution_count": null,
   "metadata": {},
   "outputs": [],
   "source": []
  },
  {
   "cell_type": "code",
   "execution_count": null,
   "metadata": {},
   "outputs": [],
   "source": []
  },
  {
   "cell_type": "code",
   "execution_count": null,
   "metadata": {},
   "outputs": [],
   "source": []
  }
 ],
 "metadata": {
  "kernelspec": {
   "display_name": "Python 3.6 with Spark",
   "language": "python3",
   "name": "python36"
  },
  "language_info": {
   "codemirror_mode": {
    "name": "ipython",
    "version": 3
   },
   "file_extension": ".py",
   "mimetype": "text/x-python",
   "name": "python",
   "nbconvert_exporter": "python",
   "pygments_lexer": "ipython3",
   "version": "3.6.8"
  }
 },
 "nbformat": 4,
 "nbformat_minor": 2
}
